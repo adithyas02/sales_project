{
 "cells": [
  {
   "cell_type": "markdown",
   "id": "1098b401",
   "metadata": {},
   "source": [
    "# demo_project"
   ]
  },
  {
   "cell_type": "markdown",
   "id": "3b6a1cb0",
   "metadata": {},
   "source": []
  }
 ],
 "metadata": {
  "language_info": {
   "name": "python"
  }
 },
 "nbformat": 4,
 "nbformat_minor": 5
}
